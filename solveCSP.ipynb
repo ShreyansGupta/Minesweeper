{
 "cells": [
  {
   "cell_type": "code",
   "execution_count": 1,
   "metadata": {},
   "outputs": [],
   "source": [
    "class CSP:\n",
    "    \n",
    "    def __init__(self, var=[]):\n",
    "        self.variable = []\n",
    "        self.constrain = []\n",
    "        self.var_to_const = dict()\n",
    "\n",
    "    def addVar(self, var):\n",
    "        variable.append(var)\n",
    "        var_to_cons[v] = []"
   ]
  },
  {
   "cell_type": "code",
   "execution_count": null,
   "metadata": {},
   "outputs": [],
   "source": [
    "class Variable:\n",
    "    def __init__(self, name, domain):\n",
    "        self.name = name\n",
    "        self.domain = domain\n",
    "        self.value = -2"
   ]
  },
  {
   "cell_type": "code",
   "execution_count": null,
   "metadata": {},
   "outputs": [],
   "source": []
  },
  {
   "cell_type": "code",
   "execution_count": null,
   "metadata": {},
   "outputs": [],
   "source": [
    "def solve_csp(agent):\n",
    "    csp = CSP()\n",
    "    variables = []\n",
    "    \n",
    "    # Assign Variables Matrix\n",
    "    for row in range(agent.dimension):\n",
    "        rows = []\n",
    "        for col in range(agent.dimension):\n",
    "            name = str(row) + \" \" + str(col)\n",
    "            if agent.agentBoard[row][col] == -1:\n",
    "                domain = [1]\n",
    "            elif agent.agentBoard[row][col] == -2:\n",
    "                domain = [0,1]\n",
    "            else:\n",
    "                domain = [0]\n",
    "            var = Variable(name,domain)\n",
    "            rows.append(var)\n",
    "            csp.addVar(var)\n",
    "        variables.append(rows)\n",
    "        \n",
    "    #Initialize Constraints\n",
    "    constraints = []\n",
    "    unassign = []\n",
    "    for row in range(agent.dimension):\n",
    "        for col in range(agent.dimension):\n",
    "            if agent.agentBoard >=0: \n",
    "                variables[row][col] = 0\n",
    "            elif agent.agentBoard == -1:\n",
    "                variables[row][col] = 1\n",
    "            else:\n",
    "                unassign.append(variables[row][col])\n",
    "                \n",
    "            # Constraint info for a non-empty visible button.\n",
    "            if agent.agentBoard[row][col] >0:\n",
    "                scope = []\n",
    "                effective_mines = agent.agentBoard[row][col]\n",
    "                for i in range(-1,1):\n",
    "                    for j in range(-1,1):\n",
    "                        if i==j:\n",
    "                            continue\n",
    "                        if agent.agentBoard[row+i][col+j] == -1   #Neighbour known mine\n",
    "                            effective_mines -= 1\n",
    "                        if agent.agentBoard[row+i][col+j] > 0:\n",
    "                            scope.append(variables[row+i][col+j])\n",
    "                \n",
    "                name = str(row) + \",\" + str(col)\n",
    "                \n",
    "                # Avoid empty scope. (All surrounding buttons are either visible or flagged.)\n",
    "                if scope:\n",
    "                    constraints.append([name, scope, effective_mines])\n",
    "                                \n",
    "    constraints.sort(key=lambda x: len(x[1]))\n",
    "    \n",
    "    ## Example shown in class\n",
    "    ## A+B+C=2 and A+B=1\n",
    "    ## implies equation C=1\n",
    "    for i in range(len(constraints)-1):\n",
    "        con1 = constraints[i]\n",
    "        for j in range(i+1,len(constraints)):\n",
    "            con2 = constraints[j]\n",
    "            if set(con1[1]) == set(con2[1]):\n",
    "                continue\n",
    "            if set(con1[1]) & set(con2[1]) == set(con1[1]):\n",
    "                con2[1] = list(set(con2[1]).difference(set(con1[1])))\n",
    "                con2[2] = con2[2] - con1[2]\n",
    "            if len(set(con1[1]) & set(con2[1])) > 1:  ## Intersecton of set1 and set2\n",
    "                intersecting_set = set(con1[1]) & set(con2[1])\n",
    "                \n",
    "                \n",
    "    constraints.sort(key=lambda x: len(x[1]))\n",
    "    \n",
    "    for const in constraints:\n",
    "        sol = all_possible_solutions(const[1],const[2])\n",
    "        const.append(sol)"
   ]
  },
  {
   "cell_type": "code",
   "execution_count": 3,
   "metadata": {},
   "outputs": [],
   "source": [
    "import itertools\n",
    "# itertools.product(range(2), repeat=3) --> 000 001 010 011 100 101 110 111\n",
    "\n",
    "def all_possible_solutions(variableList, effective_mines):\n",
    "    lst = []\n",
    "    for var in variableList:\n",
    "        lst.append(list(var.domain))\n",
    "    prod = list(itertools.product(*lst))\n",
    "    tuples = []\n",
    "    for tuple in prod:\n",
    "        if sum(tuple) == effective_mines:\n",
    "            tuples.append(tuple)\n",
    "    return tuples"
   ]
  },
  {
   "cell_type": "markdown",
   "metadata": {},
   "source": [
    "## Backtracking Solution:\n",
    "\n",
    "Assign a Boolean value to any variable from the Domain and check if it satisfies other constraints if not backtrack and choose another value for the variable"
   ]
  },
  {
   "cell_type": "code",
   "execution_count": null,
   "metadata": {},
   "outputs": [],
   "source": [
    "def BackTracking(csp):\n",
    "    #Takes as argument csp class object\n",
    "    "
   ]
  }
 ],
 "metadata": {
  "kernelspec": {
   "display_name": "Python 3",
   "language": "python",
   "name": "python3"
  },
  "language_info": {
   "codemirror_mode": {
    "name": "ipython",
    "version": 3
   },
   "file_extension": ".py",
   "mimetype": "text/x-python",
   "name": "python",
   "nbconvert_exporter": "python",
   "pygments_lexer": "ipython3",
   "version": "3.4.3"
  }
 },
 "nbformat": 4,
 "nbformat_minor": 2
}

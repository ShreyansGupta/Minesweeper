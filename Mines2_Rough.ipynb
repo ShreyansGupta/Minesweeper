{
 "cells": [
  {
   "cell_type": "code",
   "execution_count": null,
   "metadata": {},
   "outputs": [],
   "source": [
    "import Environment as enm\n",
    "import agent as ag\n",
    "class Kb:\n",
    "    def __init__(self,enm):\n",
    "        self.kb_maze=enm\n",
    "        \n",
    "    \n",
    "    def update_kb(self,maze,row,col):\n",
    "        if self.kb_maze[row][col]=-2: \n",
    "            self.kb_maze[row][col]=maze[row][col]\n",
    "    \n",
    "    def first_update_onClick(self,maze,row,col):\n",
    "        for i in [-1,0,1]:\n",
    "            for j in [-1,0,1]:\n",
    "                if i==0 or j==0:\n",
    "                    continue\n",
    "                elif 0<=row+i<=len(maze) and 0<=col+j<=len(maze[0]):\n",
    "                    if maze[row+i][col+j]!=-2:\n",
    "                        self.update_kb(maze,row+i,col+j)\n",
    "\n",
    "\n",
    "    def get_kb(self):\n",
    "        return self.kb_maze\n",
    "\n",
    "        \n",
    "e1=enm.Environment(d,n)\n",
    "a1=ag.agent(e1)\n",
    "#All cells are marked as -2\n",
    "k1=Kb(a1.agentBoard)\n"
   ]
  }
 ],
 "metadata": {
  "kernelspec": {
   "display_name": "Python 3",
   "language": "python",
   "name": "python3"
  },
  "language_info": {
   "codemirror_mode": {
    "name": "ipython",
    "version": 3
   },
   "file_extension": ".py",
   "mimetype": "text/x-python",
   "name": "python",
   "nbconvert_exporter": "python",
   "pygments_lexer": "ipython3",
   "version": "3.7.3"
  }
 },
 "nbformat": 4,
 "nbformat_minor": 2
}
